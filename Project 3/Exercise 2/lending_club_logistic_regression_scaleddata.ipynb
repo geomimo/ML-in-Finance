{
 "cells": [
  {
   "cell_type": "code",
   "execution_count": 38,
   "metadata": {},
   "outputs": [],
   "source": [
    "# import packages\n",
    "import warnings\n",
    "warnings.filterwarnings('ignore')\n",
    "\n",
    "import pandas as pd\n",
    "import numpy as np\n",
    "\n",
    "import seaborn as sns\n",
    "import matplotlib.pyplot as plt\n",
    "\n",
    "from sklearn.linear_model import LogisticRegression\n",
    "\n",
    "from sklearn.metrics import accuracy_score, recall_score, precision_score, f1_score\n",
    "from sklearn.metrics import confusion_matrix, classification_report, roc_curve, roc_auc_score\n",
    "from sklearn.metrics import precision_recall_curve, auc, average_precision_score"
   ]
  },
  {
   "cell_type": "code",
   "execution_count": 39,
   "metadata": {},
   "outputs": [
    {
     "name": "stdout",
     "output_type": "stream",
     "text": [
      "Training set\n",
      "   home_ownership    income    dti  fico  loan_status\n",
      "0               1   44304.0  18.47   690            0\n",
      "1               0   50000.0  29.62   735            1\n",
      "2               0   64400.0  16.68   675            1\n",
      "3               0   38500.0  33.73   660            0\n",
      "4               1  118000.0  26.66   665            1\n",
      "Validation set\n",
      "   home_ownership    income    dti  fico  loan_status\n",
      "0               0   25000.0  27.60   660            0\n",
      "1               0   50000.0  21.51   715            1\n",
      "2               1  100000.0   8.14   770            1\n",
      "3               0   75000.0   1.76   685            0\n",
      "4               1   78000.0  16.11   680            1\n",
      "Test set\n",
      "   home_ownership    income    dti  fico  loan_status\n",
      "0               1   52400.0  24.64   665            1\n",
      "1               1  150000.0  17.04   785            1\n",
      "2               1  100000.0  20.92   710            1\n",
      "3               0   97000.0  13.11   705            1\n",
      "4               1  100000.0  24.08   685            0\n"
     ]
    }
   ],
   "source": [
    "train = pd.read_excel('lendingclub_traindata.xlsx')\n",
    "validation=pd.read_excel('lendingclub_valdata.xlsx')\n",
    "test = pd.read_excel('lendingclub_testdata.xlsx')\n",
    "\n",
    "# 1 = good, 0 = default\n",
    "\n",
    "#give column names\n",
    "cols = ['home_ownership', 'income', 'dti', 'fico', 'loan_status']\n",
    "\n",
    "train.columns = validation.columns=test.columns = cols\n",
    "print(\"Training set\")\n",
    "print(train.head())\n",
    "print(\"Validation set\")\n",
    "print (validation.head())\n",
    "print(\"Test set\")\n",
    "print(test.head())"
   ]
  },
  {
   "cell_type": "markdown",
   "metadata": {},
   "source": [
    "The data has already been split into training set, validation set, and test set. There are 7000 instances of the training set, 3000 instances of the validation set and 2290 instances of the test set. The four features have been labeled as: home ownership, income, dti and fico."
   ]
  },
  {
   "cell_type": "code",
   "execution_count": 40,
   "metadata": {},
   "outputs": [
    {
     "name": "stdout",
     "output_type": "stream",
     "text": [
      "Scaled data\n",
      "Training set\n",
      "   home_ownership    income       dti      fico\n",
      "0        0.809651 -0.556232  0.053102 -0.163701\n",
      "1       -1.234923 -0.451393  1.307386  1.262539\n",
      "2       -1.234923 -0.186349 -0.148259 -0.639114\n",
      "3       -1.234923 -0.663060  1.769728 -1.114527\n",
      "4        0.809651  0.800204  0.974410 -0.956056\n",
      "Validation set\n",
      "   home_ownership    income       dti      fico\n",
      "0       -1.234923 -0.911538  1.080153 -1.114527\n",
      "1       -1.234923 -0.451393  0.395077  0.628655\n",
      "2        0.809651  0.468899 -1.108940  2.371837\n",
      "3       -1.234923  0.008753 -1.826638 -0.322172\n",
      "4        0.809651  0.063971 -0.212379 -0.480643\n",
      "Test set\n",
      "   home_ownership    income       dti      fico\n",
      "0        0.809651 -0.407219  0.747177 -0.956056\n",
      "1        0.809651  1.389190 -0.107762  2.847250\n",
      "2        0.809651  0.468899  0.328707  0.470184\n",
      "3       -1.234923  0.413681 -0.549855  0.311713\n",
      "4        0.809651  0.468899  0.684181 -0.322172\n",
      "(7000, 4) (7000,) (3000, 4) (3000,) (2290, 4) (2290,)\n"
     ]
    },
    {
     "data": {
      "text/plain": [
       "Index(['home_ownership', 'income', 'dti', 'fico'], dtype='object')"
      ]
     },
     "execution_count": 40,
     "metadata": {},
     "output_type": "execute_result"
    }
   ],
   "source": [
    "# remove target column to create feature only dataset\n",
    "X_train = train.drop('loan_status', 1)\n",
    "X_val=validation.drop('loan_status', 1)\n",
    "X_test = test.drop('loan_status', 1)\n",
    "\n",
    "\n",
    "# Scale data using the mean and standard deviation of the training set. \n",
    "# This is not necessary for the simple logistic regression we will do here \n",
    "# but should be done if L1 or L2 regrularization is carried out\n",
    "X_test=(X_test-X_train.mean())/X_train.std()\n",
    "X_val=(X_val-X_train.mean())/X_train.std()\n",
    "X_train=(X_train-X_train.mean())/X_train.std()\n",
    "\n",
    "# store target column as y-variables \n",
    "y_train = train['loan_status']\n",
    "y_val=validation['loan_status']\n",
    "y_test = test['loan_status']\n",
    "\n",
    "\n",
    "#print first five instances for each data set - scaled\n",
    "print(\"Scaled data\")\n",
    "print(\"Training set\")\n",
    "print(X_train.head())\n",
    "print(\"Validation set\")\n",
    "print(X_val.head())\n",
    "print(\"Test set\")\n",
    "print(X_test.head())\n",
    "\n",
    "print(X_train.shape, y_train.shape, X_val.shape,y_val.shape, X_test.shape, y_test.shape)\n",
    "X_train.columns"
   ]
  },
  {
   "cell_type": "code",
   "execution_count": 41,
   "metadata": {},
   "outputs": [
    {
     "data": {
      "text/plain": [
       "1    79.171429\n",
       "0    20.828571\n",
       "Name: loan_status, dtype: float64"
      ]
     },
     "execution_count": 41,
     "metadata": {},
     "output_type": "execute_result"
    }
   ],
   "source": [
    "freq = y_train.value_counts()           # count frequency of different classes in training swet\n",
    "freq/sum(freq)*100                      # get percentage of above"
   ]
  },
  {
   "cell_type": "code",
   "execution_count": 42,
   "metadata": {},
   "outputs": [
    {
     "name": "stdout",
     "output_type": "stream",
     "text": [
      "[1.4162429] [[ 0.14531037  0.03366005 -0.32404502  0.36315462]]\n"
     ]
    }
   ],
   "source": [
    "#Create an instance of logistic regression named lgstc_reg on scaled data\n",
    "\n",
    "lgstc_reg =  LogisticRegression(penalty=\"none\",solver=\"newton-cg\")     \n",
    "\n",
    "# Fit logististic regression to training set\n",
    "\n",
    "lgstc_reg.fit(X_train, y_train)                                        # fit training data on logistic regression \n",
    "\n",
    "\n",
    "print(lgstc_reg.intercept_, lgstc_reg.coef_)                           # get the coefficients of each features"
   ]
  },
  {
   "cell_type": "markdown",
   "metadata": {},
   "source": [
    "When used on scaled data the model has a bias of 1.416 and coefficients of 0.145, 0.034, -0.324 and 0.363. We now test the model on the validation set."
   ]
  },
  {
   "cell_type": "code",
   "execution_count": 43,
   "metadata": {},
   "outputs": [
    {
     "name": "stdout",
     "output_type": "stream",
     "text": [
      "cost function training set = 0.49111143543170926\n",
      "cost function validation set = 0.4860713220392096\n",
      "cost function test set = 0.48467054875810117\n"
     ]
    }
   ],
   "source": [
    "# y_train_pred, y_val_pred, and y_test_pred are the predicted probabilities for the training set\n",
    "# validation set and test set using the fitted logistic regression model\n",
    "\n",
    "y_train_pred=lgstc_reg.predict_proba(X_train)\n",
    "y_val_pred=lgstc_reg.predict_proba(X_val)\n",
    "y_test_pred=lgstc_reg.predict_proba(X_test)\n",
    "\n",
    "# Calculate maximum likelihood for training set, validation set, and test set\n",
    " \n",
    "mle_vector_train = np.log(np.where(y_train == 1, y_train_pred[:,1], y_train_pred[:,0])) # if y_train == 1 set y_train_pred[:,1] otherwise set y_train_pred[:,0] \n",
    "mle_vector_val = np.log(np.where(y_val == 1, y_val_pred[:,1], y_val_pred[:,0]))\n",
    "mle_vector_test = np.log(np.where(y_test == 1, y_test_pred[:,1], y_test_pred[:,0]))\n",
    "\n",
    "# Calculate cost functions from maximum likelihoods\n",
    "\n",
    "cost_function_training=np.negative(np.sum(mle_vector_train)/len(y_train))\n",
    "cost_function_val=np.negative(np.sum(mle_vector_val)/len(y_val))\n",
    "cost_function_test=np.negative(np.sum(mle_vector_test)/len(y_test))\n",
    "\n",
    "print('cost function training set =', cost_function_training)\n",
    "print('cost function validation set =', cost_function_val)\n",
    "print('cost function test set =', cost_function_test)"
   ]
  },
  {
   "cell_type": "markdown",
   "metadata": {},
   "source": [
    "<br> \n",
    "An analyst must decide on a criterion for predicting whether loan will be good or default. This involves specifying a threshold By default this threshold is set to 0.5, i.e., loans are separated into good and bad categories according to whether the probability of no default is greater or less than 0.5. However this does not work well for an imbalanced data set such as this. It would predict that all loans are good! We will look at the results for few other thresholds. \n",
    "\n"
   ]
  },
  {
   "cell_type": "code",
   "execution_count": 44,
   "metadata": {},
   "outputs": [
    {
     "name": "stdout",
     "output_type": "stream",
     "text": [
      "Confusion matrix for threshold = 0.0\n",
      "[[79.17030568  0.        ]\n",
      " [20.82969432  0.        ]]\n",
      " \n",
      "Confusion matrix for threshold = 0.75\n",
      "[[60.82969432 18.34061135]\n",
      " [11.70305677  9.12663755]]\n",
      " \n",
      "Confusion matrix for threshold = 0.8\n",
      "[[42.70742358 36.4628821 ]\n",
      " [ 6.4628821  14.36681223]]\n",
      " \n",
      "Confusion matrix for threshold = 0.85\n",
      "[[22.7510917  56.41921397]\n",
      " [ 3.01310044 17.81659389]]\n",
      " \n",
      "Confusion matrix for threshold = 1.0\n",
      "[[ 0.         79.17030568]\n",
      " [ 0.         20.82969432]]\n",
      " \n",
      "ALL METRICS\n",
      "                       0         1         2         3         4\n",
      "THRESHOLD            0.0      0.75       0.8      0.85       1.0\n",
      "accuracy        0.791703  0.699563  0.570742  0.405677  0.208297\n",
      "true pos rate        1.0   0.76834  0.539437  0.287369       0.0\n",
      "true neg rate        0.0  0.438155  0.689727  0.855346       1.0\n",
      "false pos rate       1.0  0.561845  0.310273  0.144654       0.0\n",
      "precision       0.791703  0.838651  0.868561  0.883051       0.0\n",
      "f-score         0.883744  0.801957  0.665532  0.433625       0.0\n"
     ]
    }
   ],
   "source": [
    "THRESHOLD = [0.00, .75, .80, .85 , 1.00]\n",
    "# Create dataframe to store results\n",
    "results = pd.DataFrame(columns=[\"THRESHOLD\", \"accuracy\", \"true pos rate\", \"true neg rate\", \"false pos rate\", \"precision\", \"f-score\"]) # df to store results\n",
    "\n",
    "# Create threshold row\n",
    "results['THRESHOLD'] = THRESHOLD                                                                         \n",
    "             \n",
    "j = 0                                                                                                      \n",
    "\n",
    "# Iterate over the 3 thresholds\n",
    "\n",
    "for i in THRESHOLD:                                                                                       \n",
    "    \n",
    "    \n",
    "    #lgstc_reg.fit(X_train, y_train)                                                                    \n",
    "    \n",
    "    \n",
    "    # If prob for test set > threshold predict 1\n",
    "    preds = np.where(lgstc_reg.predict_proba(X_test)[:,1] > i, 1, 0)                                      \n",
    "    \n",
    "    \n",
    "    # create confusion matrix \n",
    "    cm = (confusion_matrix(y_test, preds,labels=[1, 0], sample_weight=None) / len(y_test))*100                   # confusion matrix (in percentage)\n",
    "    \n",
    "    print('Confusion matrix for threshold =',i)\n",
    "    print(cm)\n",
    "    print(' ')      \n",
    "    \n",
    "    TP = cm[0][0]                                                                                          # True Positives\n",
    "    FN = cm[0][1]                                                                                          # False Positives\n",
    "    FP = cm[1][0]                                                                                          # True Negatives\n",
    "    TN = cm[1][1]                                                                                          # False Negatives\n",
    "        \n",
    "    results.iloc[j,1] = accuracy_score(y_test, preds) \n",
    "    results.iloc[j,2] = recall_score(y_test, preds)\n",
    "    results.iloc[j,3] = TN/(FP+TN)                                                                         # True negative rate\n",
    "    results.iloc[j,4] = FP/(FP+TN)                                                                         # False positive rate\n",
    "    results.iloc[j,5] = precision_score(y_test, preds)\n",
    "    results.iloc[j,6] = f1_score(y_test, preds)\n",
    "   \n",
    "   \n",
    "    j += 1\n",
    "\n",
    "print('ALL METRICS')\n",
    "print( results.T)"
   ]
  },
  {
   "cell_type": "markdown",
   "metadata": {},
   "source": [
    "<br>\n",
    "This table shows that there is a trade off betwee the true positive rate and the false positive rate.  \n",
    "We can improve the percentage of good loans we identify only by increasing the percentage of bad that are misclassified.\n",
    "The receiver operating curve (ROC) captures this trade off by considering different thresholds."
   ]
  },
  {
   "cell_type": "code",
   "execution_count": 45,
   "metadata": {},
   "outputs": [
    {
     "name": "stdout",
     "output_type": "stream",
     "text": [
      "AUC random predictions = 0.5\n"
     ]
    },
    {
     "data": {
      "image/png": "[encoded data removed]",
      "text/plain": [
       "<Figure size 640x480 with 1 Axes>"
      ]
     },
     "metadata": {},
     "output_type": "display_data"
    }
   ],
   "source": [
    "\n",
    "# Calculate the receiver operating curve and the AUC measure\n",
    "\n",
    "lr_prob=lgstc_reg.predict_proba(X_test)\n",
    "lr_prob=lr_prob[:, 1]\n",
    "ns_prob=[0 for _ in range(len(y_test))]\n",
    "ns_auc=roc_auc_score(y_test, ns_prob)\n",
    "lr_auc=roc_auc_score(y_test,lr_prob)\n",
    "print(\"AUC random predictions =\", ns_auc)\n",
    "ns_fpr,ns_tpr,_=roc_curve(y_test,ns_prob)\n",
    "lr_fpr,lr_tpr,_=roc_curve(y_test,lr_prob)\n",
    "\n",
    "plt.plot(ns_fpr,ns_tpr,linestyle='--',label='Random Predction')\n",
    "plt.plot(lr_fpr,lr_tpr,marker='.',label='Logistic Regression')\n",
    "plt.title(f\"AUC\\n{lr_auc}\")\n",
    "\n",
    "plt.xlabel('False Positive Rate')\n",
    "plt.ylabel('True Positive Rate')\n",
    "plt.legend()\n",
    "plt.show()"
   ]
  }
 ],
 "metadata": {
  "kernelspec": {
   "display_name": "Python 3 (ipykernel)",
   "language": "python",
   "name": "python3"
  },
  "language_info": {
   "codemirror_mode": {
    "name": "ipython",
    "version": 3
   },
   "file_extension": ".py",
   "mimetype": "text/x-python",
   "name": "python",
   "nbconvert_exporter": "python",
   "pygments_lexer": "ipython3",
   "version": "3.9.13"
  }
 },
 "nbformat": 4,
 "nbformat_minor": 2
}
